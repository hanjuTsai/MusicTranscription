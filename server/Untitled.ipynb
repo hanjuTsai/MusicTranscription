{
 "cells": [
  {
   "cell_type": "code",
   "execution_count": 16,
   "metadata": {},
   "outputs": [],
   "source": [
    "import music21\n",
    "from IPython.display import Image\n",
    "from IPython.display import Audio"
   ]
  },
  {
   "cell_type": "code",
   "execution_count": 2,
   "metadata": {},
   "outputs": [],
   "source": [
    "music21.environment.set(\"musicxmlPath\", \"/usr/bin/musescore\")\n",
    "music21.environment.set('graphicsPath', '/usr/bin/musescore')\n",
    "music21.environment.set('musescoreDirectPNGPath', '/usr/bin/musescore')"
   ]
  },
  {
   "cell_type": "code",
   "execution_count": 11,
   "metadata": {},
   "outputs": [],
   "source": [
    "score = music21.converter.parse('stuff/sheep/little/out.mid')"
   ]
  }
 ],
 "metadata": {
  "kernelspec": {
   "display_name": "Python (hanju)",
   "language": "python",
   "name": "hanju"
  },
  "language_info": {
   "codemirror_mode": {
    "name": "ipython",
    "version": 3
   },
   "file_extension": ".py",
   "mimetype": "text/x-python",
   "name": "python",
   "nbconvert_exporter": "python",
   "pygments_lexer": "ipython3",
   "version": "3.6.8"
  }
 },
 "nbformat": 4,
 "nbformat_minor": 4
}
